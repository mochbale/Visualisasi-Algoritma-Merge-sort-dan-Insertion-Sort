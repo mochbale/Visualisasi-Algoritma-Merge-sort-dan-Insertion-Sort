{
  "nbformat": 4,
  "nbformat_minor": 0,
  "metadata": {
    "colab": {
      "name": "Salinan dari Churn Prediction.ipynb",
      "provenance": [],
      "collapsed_sections": [],
      "include_colab_link": true
    },
    "kernelspec": {
      "display_name": "Python 3",
      "language": "python",
      "name": "python3"
    },
    "language_info": {
      "codemirror_mode": {
        "name": "ipython",
        "version": 3
      },
      "file_extension": ".py",
      "mimetype": "text/x-python",
      "name": "python",
      "nbconvert_exporter": "python",
      "pygments_lexer": "ipython3",
      "version": "3.6.6"
    }
  },
  "cells": [
    {
      "cell_type": "markdown",
      "metadata": {
        "id": "view-in-github",
        "colab_type": "text"
      },
      "source": [
        "<a href=\"https://colab.research.google.com/github/mochbale/Visualisasi-Algoritma-Merge-sort-dan-Insertion-Sort/blob/main/Salinan_dari_Churn_Prediction.ipynb\" target=\"_parent\"><img src=\"https://colab.research.google.com/assets/colab-badge.svg\" alt=\"Open In Colab\"/></a>"
      ]
    },
    {
      "cell_type": "markdown",
      "metadata": {
        "id": "IAPUpFWOaavJ"
      },
      "source": [
        "# Telco Churn Prediction"
      ]
    },
    {
      "cell_type": "markdown",
      "metadata": {
        "id": "nzS9eq3oaavK"
      },
      "source": [
        "# <font color='red'> Introduction </font>\n",
        "\n",
        "\n",
        "We will use telco dataset and in this session we will create model which can predict customer that will churn in the future.\n",
        "\n",
        "[Link Dataset](https://www.kaggle.com/blastchar/telco-customer-churn)\n",
        "\n",
        "<img src=\"https://nextommerce.com/wp-content/uploads/2019/04/pasted-image-0.png\" width=\"600\"/>\n",
        "\n",
        "Learning Objectives:\n",
        "\n",
        " - Simple Exploratory Data Analysis\n",
        " - Data wrangling\n",
        " - Creating predictive models using Random Forest\n",
        " - Fine tuning by GridSearch"
      ]
    },
    {
      "cell_type": "markdown",
      "metadata": {
        "id": "EDtvgyBPaavL"
      },
      "source": [
        "## Import Libraries"
      ]
    },
    {
      "cell_type": "code",
      "metadata": {
        "id": "hltB2-ejaavL"
      },
      "source": [
        "import numpy as np # linear algebra\n",
        "import pandas as pd\n",
        "import matplotlib.pyplot as plt\n",
        "import seaborn as sns\n",
        "\n",
        "import warnings\n",
        "warnings.filterwarnings(\"ignore\")\n",
        "\n",
        "from pylab import rcParams\n",
        "\n",
        "%matplotlib inline"
      ],
      "execution_count": null,
      "outputs": []
    },
    {
      "cell_type": "code",
      "metadata": {
        "id": "SG2t-c9FaavM"
      },
      "source": [
        "data = pd.read_csv('https://drive.google.com/uc?export=download&id=1ZQpkQJbcBBp6nieyg_q1RQSPOUAmcINr')"
      ],
      "execution_count": null,
      "outputs": []
    },
    {
      "cell_type": "markdown",
      "metadata": {
        "id": "k9N6gl27aavM"
      },
      "source": [
        "## Data Exploration"
      ]
    },
    {
      "cell_type": "code",
      "metadata": {
        "colab": {
          "base_uri": "https://localhost:8080/"
        },
        "id": "HNelTCtgaavM",
        "outputId": "d2bd74f7-b0f9-4f51-8c21-3e1a2e3e8756"
      },
      "source": [
        "data.columns"
      ],
      "execution_count": null,
      "outputs": [
        {
          "output_type": "execute_result",
          "data": {
            "text/plain": [
              "Index(['customerID', 'gender', 'SeniorCitizen', 'Partner', 'Dependents',\n",
              "       'tenure', 'PhoneService', 'MultipleLines', 'InternetService',\n",
              "       'OnlineSecurity', 'OnlineBackup', 'DeviceProtection', 'TechSupport',\n",
              "       'StreamingTV', 'StreamingMovies', 'Contract', 'PaperlessBilling',\n",
              "       'PaymentMethod', 'MonthlyCharges', 'TotalCharges', 'Churn'],\n",
              "      dtype='object')"
            ]
          },
          "metadata": {
            "tags": []
          },
          "execution_count": 3
        }
      ]
    },
    {
      "cell_type": "code",
      "metadata": {
        "colab": {
          "base_uri": "https://localhost:8080/"
        },
        "id": "GL-FEjNoaavM",
        "outputId": "f94c1f0e-78c1-4b82-d511-90d0002738b9"
      },
      "source": [
        "data.shape"
      ],
      "execution_count": null,
      "outputs": [
        {
          "output_type": "execute_result",
          "data": {
            "text/plain": [
              "(7043, 21)"
            ]
          },
          "metadata": {
            "tags": []
          },
          "execution_count": 4
        }
      ]
    },
    {
      "cell_type": "code",
      "metadata": {
        "colab": {
          "base_uri": "https://localhost:8080/",
          "height": 309
        },
        "id": "f_6boI85aavN",
        "outputId": "ff2aa211-aa14-419e-f1d9-d774745996aa"
      },
      "source": [
        "data.head(5)"
      ],
      "execution_count": null,
      "outputs": [
        {
          "output_type": "execute_result",
          "data": {
            "text/html": [
              "<div>\n",
              "<style scoped>\n",
              "    .dataframe tbody tr th:only-of-type {\n",
              "        vertical-align: middle;\n",
              "    }\n",
              "\n",
              "    .dataframe tbody tr th {\n",
              "        vertical-align: top;\n",
              "    }\n",
              "\n",
              "    .dataframe thead th {\n",
              "        text-align: right;\n",
              "    }\n",
              "</style>\n",
              "<table border=\"1\" class=\"dataframe\">\n",
              "  <thead>\n",
              "    <tr style=\"text-align: right;\">\n",
              "      <th></th>\n",
              "      <th>customerID</th>\n",
              "      <th>gender</th>\n",
              "      <th>SeniorCitizen</th>\n",
              "      <th>Partner</th>\n",
              "      <th>Dependents</th>\n",
              "      <th>tenure</th>\n",
              "      <th>PhoneService</th>\n",
              "      <th>MultipleLines</th>\n",
              "      <th>InternetService</th>\n",
              "      <th>OnlineSecurity</th>\n",
              "      <th>OnlineBackup</th>\n",
              "      <th>DeviceProtection</th>\n",
              "      <th>TechSupport</th>\n",
              "      <th>StreamingTV</th>\n",
              "      <th>StreamingMovies</th>\n",
              "      <th>Contract</th>\n",
              "      <th>PaperlessBilling</th>\n",
              "      <th>PaymentMethod</th>\n",
              "      <th>MonthlyCharges</th>\n",
              "      <th>TotalCharges</th>\n",
              "      <th>Churn</th>\n",
              "    </tr>\n",
              "  </thead>\n",
              "  <tbody>\n",
              "    <tr>\n",
              "      <th>0</th>\n",
              "      <td>7590-VHVEG</td>\n",
              "      <td>Female</td>\n",
              "      <td>0</td>\n",
              "      <td>Yes</td>\n",
              "      <td>No</td>\n",
              "      <td>1</td>\n",
              "      <td>No</td>\n",
              "      <td>No phone service</td>\n",
              "      <td>DSL</td>\n",
              "      <td>No</td>\n",
              "      <td>Yes</td>\n",
              "      <td>No</td>\n",
              "      <td>No</td>\n",
              "      <td>No</td>\n",
              "      <td>No</td>\n",
              "      <td>Month-to-month</td>\n",
              "      <td>Yes</td>\n",
              "      <td>Electronic check</td>\n",
              "      <td>29.85</td>\n",
              "      <td>29.85</td>\n",
              "      <td>No</td>\n",
              "    </tr>\n",
              "    <tr>\n",
              "      <th>1</th>\n",
              "      <td>5575-GNVDE</td>\n",
              "      <td>Male</td>\n",
              "      <td>0</td>\n",
              "      <td>No</td>\n",
              "      <td>No</td>\n",
              "      <td>34</td>\n",
              "      <td>Yes</td>\n",
              "      <td>No</td>\n",
              "      <td>DSL</td>\n",
              "      <td>Yes</td>\n",
              "      <td>No</td>\n",
              "      <td>Yes</td>\n",
              "      <td>No</td>\n",
              "      <td>No</td>\n",
              "      <td>No</td>\n",
              "      <td>One year</td>\n",
              "      <td>No</td>\n",
              "      <td>Mailed check</td>\n",
              "      <td>56.95</td>\n",
              "      <td>1889.5</td>\n",
              "      <td>No</td>\n",
              "    </tr>\n",
              "    <tr>\n",
              "      <th>2</th>\n",
              "      <td>3668-QPYBK</td>\n",
              "      <td>Male</td>\n",
              "      <td>0</td>\n",
              "      <td>No</td>\n",
              "      <td>No</td>\n",
              "      <td>2</td>\n",
              "      <td>Yes</td>\n",
              "      <td>No</td>\n",
              "      <td>DSL</td>\n",
              "      <td>Yes</td>\n",
              "      <td>Yes</td>\n",
              "      <td>No</td>\n",
              "      <td>No</td>\n",
              "      <td>No</td>\n",
              "      <td>No</td>\n",
              "      <td>Month-to-month</td>\n",
              "      <td>Yes</td>\n",
              "      <td>Mailed check</td>\n",
              "      <td>53.85</td>\n",
              "      <td>108.15</td>\n",
              "      <td>Yes</td>\n",
              "    </tr>\n",
              "    <tr>\n",
              "      <th>3</th>\n",
              "      <td>7795-CFOCW</td>\n",
              "      <td>Male</td>\n",
              "      <td>0</td>\n",
              "      <td>No</td>\n",
              "      <td>No</td>\n",
              "      <td>45</td>\n",
              "      <td>No</td>\n",
              "      <td>No phone service</td>\n",
              "      <td>DSL</td>\n",
              "      <td>Yes</td>\n",
              "      <td>No</td>\n",
              "      <td>Yes</td>\n",
              "      <td>Yes</td>\n",
              "      <td>No</td>\n",
              "      <td>No</td>\n",
              "      <td>One year</td>\n",
              "      <td>No</td>\n",
              "      <td>Bank transfer (automatic)</td>\n",
              "      <td>42.30</td>\n",
              "      <td>1840.75</td>\n",
              "      <td>No</td>\n",
              "    </tr>\n",
              "    <tr>\n",
              "      <th>4</th>\n",
              "      <td>9237-HQITU</td>\n",
              "      <td>Female</td>\n",
              "      <td>0</td>\n",
              "      <td>No</td>\n",
              "      <td>No</td>\n",
              "      <td>2</td>\n",
              "      <td>Yes</td>\n",
              "      <td>No</td>\n",
              "      <td>Fiber optic</td>\n",
              "      <td>No</td>\n",
              "      <td>No</td>\n",
              "      <td>No</td>\n",
              "      <td>No</td>\n",
              "      <td>No</td>\n",
              "      <td>No</td>\n",
              "      <td>Month-to-month</td>\n",
              "      <td>Yes</td>\n",
              "      <td>Electronic check</td>\n",
              "      <td>70.70</td>\n",
              "      <td>151.65</td>\n",
              "      <td>Yes</td>\n",
              "    </tr>\n",
              "  </tbody>\n",
              "</table>\n",
              "</div>"
            ],
            "text/plain": [
              "   customerID  gender  SeniorCitizen  ... MonthlyCharges TotalCharges  Churn\n",
              "0  7590-VHVEG  Female              0  ...          29.85        29.85     No\n",
              "1  5575-GNVDE    Male              0  ...          56.95       1889.5     No\n",
              "2  3668-QPYBK    Male              0  ...          53.85       108.15    Yes\n",
              "3  7795-CFOCW    Male              0  ...          42.30      1840.75     No\n",
              "4  9237-HQITU  Female              0  ...          70.70       151.65    Yes\n",
              "\n",
              "[5 rows x 21 columns]"
            ]
          },
          "metadata": {
            "tags": []
          },
          "execution_count": 5
        }
      ]
    },
    {
      "cell_type": "markdown",
      "metadata": {
        "id": "WAOEDK6dVP_G"
      },
      "source": [
        "Each row represents a customer, each column contains customer’s attributes described on the column Metadata.\n",
        "\n",
        "The data set includes information about:\n",
        "\n",
        "* Customers who left within the last month – the column is called Churn\n",
        "* Services that each customer has signed up for – phone, multiple lines, internet, online security, online backup, device protection, tech support, and streaming TV and movies\n",
        "* Customer account information – how long they’ve been a customer, contract, payment method, paperless billing, monthly charges, and total charges\n",
        "* Demographic info about customers – gender, age range, and if they have partners and dependents\n",
        "\n",
        "**<font color='forestgreen'> Note</font>**\n",
        "\n",
        "    First of all, we drop customerID because it should not effect the churn probability"
      ]
    },
    {
      "cell_type": "code",
      "metadata": {
        "id": "RCaZDj_naavN"
      },
      "source": [
        "data.drop(['customerID'], axis=1, inplace=True)"
      ],
      "execution_count": null,
      "outputs": []
    },
    {
      "cell_type": "markdown",
      "metadata": {
        "id": "XNRf8yowaavN"
      },
      "source": [
        "## Target Feature"
      ]
    },
    {
      "cell_type": "code",
      "metadata": {
        "colab": {
          "base_uri": "https://localhost:8080/"
        },
        "id": "EUj-O4eSaavO",
        "outputId": "2e0e737e-12a1-4684-b595-d5d7a8db9ada"
      },
      "source": [
        "data['Churn'].value_counts(sort = False)"
      ],
      "execution_count": null,
      "outputs": [
        {
          "output_type": "execute_result",
          "data": {
            "text/plain": [
              "No     5174\n",
              "Yes    1869\n",
              "Name: Churn, dtype: int64"
            ]
          },
          "metadata": {
            "tags": []
          },
          "execution_count": 7
        }
      ]
    },
    {
      "cell_type": "code",
      "metadata": {
        "colab": {
          "base_uri": "https://localhost:8080/",
          "height": 482
        },
        "id": "LzlYmtI1aavO",
        "outputId": "0d6e936d-129e-4d72-edc4-d98177ef4da0"
      },
      "source": [
        "# Data to plot\n",
        "labels =data['Churn'].value_counts(sort = True).index\n",
        "sizes = data['Churn'].value_counts(sort = True)\n",
        "\n",
        "\n",
        "colors = [\"whitesmoke\",\"red\"]\n",
        "explode = (0.1,0)  # explode 1st slice\n",
        " \n",
        "rcParams['figure.figsize'] = 8,8\n",
        "# Plot\n",
        "plt.pie(sizes, explode=explode, labels=labels, colors=colors,\n",
        "        autopct='%1.1f%%', shadow=True, startangle=270,)\n",
        "\n",
        "plt.title('Churn percentage')\n",
        "plt.show()"
      ],
      "execution_count": null,
      "outputs": [
        {
          "output_type": "display_data",
          "data": {
            "image/png": "[encoded data removed]",
            "text/plain": [
              "<Figure size 576x576 with 1 Axes>"
            ]
          },
          "metadata": {
            "tags": []
          }
        }
      ]
    },
    {
      "cell_type": "markdown",
      "metadata": {
        "id": "8aeeK_i3aavO"
      },
      "source": [
        "**<font color='tomato'> Finding</font>**\n",
        "    \n",
        "    In training set, contain Churn customer only 26.5%"
      ]
    },
    {
      "cell_type": "code",
      "metadata": {
        "id": "B0UkPB7MaavO"
      },
      "source": [
        "data['Churn'] = data['Churn'].map(lambda s :1  if s =='Yes' else 0)"
      ],
      "execution_count": null,
      "outputs": []
    },
    {
      "cell_type": "markdown",
      "metadata": {
        "id": "pIqeBjdCaavP"
      },
      "source": [
        "## Data Wrangling"
      ]
    },
    {
      "cell_type": "code",
      "metadata": {
        "colab": {
          "base_uri": "https://localhost:8080/"
        },
        "id": "4CTNwWedaavP",
        "outputId": "94bca144-de6a-430a-f79d-61b38770acab"
      },
      "source": [
        "data.info()"
      ],
      "execution_count": null,
      "outputs": [
        {
          "output_type": "stream",
          "text": [
            "<class 'pandas.core.frame.DataFrame'>\n",
            "RangeIndex: 7043 entries, 0 to 7042\n",
            "Data columns (total 20 columns):\n",
            " #   Column            Non-Null Count  Dtype  \n",
            "---  ------            --------------  -----  \n",
            " 0   gender            7043 non-null   object \n",
            " 1   SeniorCitizen     7043 non-null   int64  \n",
            " 2   Partner           7043 non-null   object \n",
            " 3   Dependents        7043 non-null   object \n",
            " 4   tenure            7043 non-null   int64  \n",
            " 5   PhoneService      7043 non-null   object \n",
            " 6   MultipleLines     7043 non-null   object \n",
            " 7   InternetService   7043 non-null   object \n",
            " 8   OnlineSecurity    7043 non-null   object \n",
            " 9   OnlineBackup      7043 non-null   object \n",
            " 10  DeviceProtection  7043 non-null   object \n",
            " 11  TechSupport       7043 non-null   object \n",
            " 12  StreamingTV       7043 non-null   object \n",
            " 13  StreamingMovies   7043 non-null   object \n",
            " 14  Contract          7043 non-null   object \n",
            " 15  PaperlessBilling  7043 non-null   object \n",
            " 16  PaymentMethod     7043 non-null   object \n",
            " 17  MonthlyCharges    7043 non-null   float64\n",
            " 18  TotalCharges      7043 non-null   object \n",
            " 19  Churn             7043 non-null   int64  \n",
            "dtypes: float64(1), int64(3), object(16)\n",
            "memory usage: 1.1+ MB\n"
          ],
          "name": "stdout"
        }
      ]
    },
    {
      "cell_type": "markdown",
      "metadata": {
        "id": "rYEe3cqJTlx2"
      },
      "source": [
        "### Check Missing Values"
      ]
    },
    {
      "cell_type": "code",
      "metadata": {
        "colab": {
          "base_uri": "https://localhost:8080/"
        },
        "id": "-wfQMF2KaavP",
        "outputId": "9a6ea272-5d78-4381-af8c-3a5abfcd82ef"
      },
      "source": [
        "data.isnull().sum().sort_values(ascending=False)"
      ],
      "execution_count": null,
      "outputs": [
        {
          "output_type": "execute_result",
          "data": {
            "text/plain": [
              "Churn               0\n",
              "TotalCharges        0\n",
              "SeniorCitizen       0\n",
              "Partner             0\n",
              "Dependents          0\n",
              "tenure              0\n",
              "PhoneService        0\n",
              "MultipleLines       0\n",
              "InternetService     0\n",
              "OnlineSecurity      0\n",
              "OnlineBackup        0\n",
              "DeviceProtection    0\n",
              "TechSupport         0\n",
              "StreamingTV         0\n",
              "StreamingMovies     0\n",
              "Contract            0\n",
              "PaperlessBilling    0\n",
              "PaymentMethod       0\n",
              "MonthlyCharges      0\n",
              "gender              0\n",
              "dtype: int64"
            ]
          },
          "metadata": {
            "tags": []
          },
          "execution_count": 11
        }
      ]
    },
    {
      "cell_type": "markdown",
      "metadata": {
        "id": "r8v9AyyfaavP"
      },
      "source": [
        "**<font color='tomato'> Finding</font>**\n",
        "\n",
        "    No missing data"
      ]
    },
    {
      "cell_type": "markdown",
      "metadata": {
        "id": "uCeI-5DDTww6"
      },
      "source": [
        "### Data Preprocessing"
      ]
    },
    {
      "cell_type": "markdown",
      "metadata": {
        "id": "so5ePaqNaavP"
      },
      "source": [
        "**<font color='royalblue'> Preprocessing</font>**\n",
        "\n",
        "#### Gender : Customer gender (female, male)\n",
        "\n",
        "    Because we can't put string in model, then we will create new binary columns."
      ]
    },
    {
      "cell_type": "code",
      "metadata": {
        "colab": {
          "base_uri": "https://localhost:8080/"
        },
        "id": "3z1Ou-SvaavQ",
        "outputId": "3295d53d-77a7-44ea-a2c9-7ca1832fc89d"
      },
      "source": [
        "data['gender'].head()"
      ],
      "execution_count": null,
      "outputs": [
        {
          "output_type": "execute_result",
          "data": {
            "text/plain": [
              "0    Female\n",
              "1      Male\n",
              "2      Male\n",
              "3      Male\n",
              "4    Female\n",
              "Name: gender, dtype: object"
            ]
          },
          "metadata": {
            "tags": []
          },
          "execution_count": 12
        }
      ]
    },
    {
      "cell_type": "code",
      "metadata": {
        "colab": {
          "base_uri": "https://localhost:8080/",
          "height": 400
        },
        "id": "J7I9q_66aavQ",
        "outputId": "89c2f328-651a-4e33-c4d8-1f2bca4caa37"
      },
      "source": [
        "sns.factorplot(y=\"Churn\",x=\"gender\",data=data,kind=\"bar\" ,palette = \"Pastel1\")"
      ],
      "execution_count": null,
      "outputs": [
        {
          "output_type": "execute_result",
          "data": {
            "text/plain": [
              "<seaborn.axisgrid.FacetGrid at 0x7f225a173410>"
            ]
          },
          "metadata": {
            "tags": []
          },
          "execution_count": 13
        },
        {
          "output_type": "display_data",
          "data": {
            "image/png": "[encoded data removed]",
            "text/plain": [
              "<Figure size 360x360 with 1 Axes>"
            ]
          },
          "metadata": {
            "tags": []
          }
        }
      ]
    },
    {
      "cell_type": "code",
      "metadata": {
        "id": "wQYVc5lnaavQ"
      },
      "source": [
        "data = pd.get_dummies(data=data, columns=['gender'])"
      ],
      "execution_count": null,
      "outputs": []
    },
    {
      "cell_type": "markdown",
      "metadata": {
        "id": "ykIXbXiGaavQ"
      },
      "source": [
        "**<font color='royalblue'> Preprocessing</font>**\n",
        "\n",
        "#### SeniorCitizen : Whether the customer is a senior citizen or not (1, 0)"
      ]
    },
    {
      "cell_type": "code",
      "metadata": {
        "colab": {
          "base_uri": "https://localhost:8080/"
        },
        "id": "0GtEtrEPaavQ",
        "outputId": "78ad03d7-c29a-4dfc-c236-3236c6a282ae"
      },
      "source": [
        "data['SeniorCitizen'].value_counts()"
      ],
      "execution_count": null,
      "outputs": [
        {
          "output_type": "execute_result",
          "data": {
            "text/plain": [
              "0    5901\n",
              "1    1142\n",
              "Name: SeniorCitizen, dtype: int64"
            ]
          },
          "metadata": {
            "tags": []
          },
          "execution_count": 15
        }
      ]
    },
    {
      "cell_type": "markdown",
      "metadata": {
        "id": "3i09PS71aavQ"
      },
      "source": [
        "**<font color='royalblue'> Preprocessing</font>**\n",
        "\n",
        "#### Partner : Whether the customer has a partner or not (Yes, No)\n",
        "    This feature value has the same meaning with SeniorCitizen \n",
        "    but it is a \"Yes/No\" values then we need to change format"
      ]
    },
    {
      "cell_type": "code",
      "metadata": {
        "colab": {
          "base_uri": "https://localhost:8080/"
        },
        "id": "rkvve7UHaavR",
        "outputId": "b296432d-7f80-4e93-a5fb-c946fee04ff3"
      },
      "source": [
        "data['Partner'].value_counts()"
      ],
      "execution_count": null,
      "outputs": [
        {
          "output_type": "execute_result",
          "data": {
            "text/plain": [
              "No     3641\n",
              "Yes    3402\n",
              "Name: Partner, dtype: int64"
            ]
          },
          "metadata": {
            "tags": []
          },
          "execution_count": 16
        }
      ]
    },
    {
      "cell_type": "code",
      "metadata": {
        "colab": {
          "base_uri": "https://localhost:8080/"
        },
        "id": "etDzqVU2aavR",
        "outputId": "5fd2ad25-fba2-433e-d31c-340ab2d386b5"
      },
      "source": [
        "data['Partner'] = data['Partner'].map(lambda s :1  if s =='Yes' else 0)\n",
        "data['Partner'].value_counts()"
      ],
      "execution_count": null,
      "outputs": [
        {
          "output_type": "execute_result",
          "data": {
            "text/plain": [
              "0    3641\n",
              "1    3402\n",
              "Name: Partner, dtype: int64"
            ]
          },
          "metadata": {
            "tags": []
          },
          "execution_count": 17
        }
      ]
    },
    {
      "cell_type": "markdown",
      "metadata": {
        "id": "IZ8BYNu9aavR"
      },
      "source": [
        "**<font color='royalblue'> Preprocessing</font>**\n",
        "\n",
        "#### Dependents, PhoneService, PaperlessBilling\n",
        "    Do the same what we do in \"Partner\" column\n",
        "    "
      ]
    },
    {
      "cell_type": "code",
      "metadata": {
        "id": "2-jkJd6maavR"
      },
      "source": [
        "data['Dependents'] = data['Dependents'].map(lambda s :1  if s =='Yes' else 0)\n",
        "data['PhoneService'] = data['PhoneService'].map(lambda s :1  if s =='Yes' else 0)\n",
        "data['PaperlessBilling'] = data['PaperlessBilling'].map(lambda s :1  if s =='Yes' else 0)"
      ],
      "execution_count": null,
      "outputs": []
    },
    {
      "cell_type": "markdown",
      "metadata": {
        "id": "oRWm7XwSaavR"
      },
      "source": [
        "**<font color='royalblue'> Preprocessing</font>**\n",
        "\n",
        "#### Tenure : Number of months the customer has stayed with the company\n",
        "    "
      ]
    },
    {
      "cell_type": "code",
      "metadata": {
        "colab": {
          "base_uri": "https://localhost:8080/"
        },
        "id": "c7xOhHc_aavS",
        "outputId": "cb0cc797-245d-437e-b4b7-2b06d685b114"
      },
      "source": [
        "data['tenure'].head()"
      ],
      "execution_count": null,
      "outputs": [
        {
          "output_type": "execute_result",
          "data": {
            "text/plain": [
              "0     1\n",
              "1    34\n",
              "2     2\n",
              "3    45\n",
              "4     2\n",
              "Name: tenure, dtype: int64"
            ]
          },
          "metadata": {
            "tags": []
          },
          "execution_count": 19
        }
      ]
    },
    {
      "cell_type": "code",
      "metadata": {
        "colab": {
          "base_uri": "https://localhost:8080/",
          "height": 513
        },
        "id": "pByUnOrraavS",
        "outputId": "9d95ce7e-f024-40ea-9127-7e60f932263a"
      },
      "source": [
        "# tenure distibution \n",
        "g = sns.kdeplot(data.tenure[(data[\"Churn\"] == 0) ], color=\"Red\", shade = True)\n",
        "g = sns.kdeplot(data.tenure[(data[\"Churn\"] == 1) ], ax =g, color=\"Blue\", shade= True)\n",
        "g.set_xlabel(\"tenure\")\n",
        "g.set_ylabel(\"Frequency\")\n",
        "plt.title('Distribution of tenure comparing with churn feature')\n",
        "g = g.legend([\"Not Churn\",\"Churn\"])"
      ],
      "execution_count": null,
      "outputs": [
        {
          "output_type": "display_data",
          "data": {
            "image/png": "[encoded data removed]",
            "text/plain": [
              "<Figure size 576x576 with 1 Axes>"
            ]
          },
          "metadata": {
            "tags": []
          }
        }
      ]
    },
    {
      "cell_type": "markdown",
      "metadata": {
        "id": "l1j9ELwJaavS"
      },
      "source": [
        "**<font color='tomato'> Finding</font>**\n",
        "\n",
        "    Seem like most of churn customer stayed in company less than 20 months\n",
        "    and customer with high value in tenure has low probability to churn"
      ]
    },
    {
      "cell_type": "markdown",
      "metadata": {
        "id": "chVfnVYAaavS"
      },
      "source": [
        "**<font color='royalblue'> Preprocessing</font>**\n",
        "\n",
        "#### MultipleLines : Whether the customer has multiple lines or not (Yes, No, No phone service)\n",
        "    look like Yes No feature but it contain 3 values. \n",
        "    I should create new column that can tell model this customer has phone service or not.\n",
        "    but we already have 'PhoneService' columns, \n",
        "    then I decide to assume that \"No phone service\" has the same meaning with \"No\"\n",
        "    "
      ]
    },
    {
      "cell_type": "code",
      "metadata": {
        "colab": {
          "base_uri": "https://localhost:8080/"
        },
        "id": "RyTqXIrvaavT",
        "scrolled": true,
        "outputId": "e4ad8226-7736-4261-f5f8-b35a9d7c24d7"
      },
      "source": [
        "data['MultipleLines'].value_counts()"
      ],
      "execution_count": null,
      "outputs": [
        {
          "output_type": "execute_result",
          "data": {
            "text/plain": [
              "No                  3390\n",
              "Yes                 2971\n",
              "No phone service     682\n",
              "Name: MultipleLines, dtype: int64"
            ]
          },
          "metadata": {
            "tags": []
          },
          "execution_count": 21
        }
      ]
    },
    {
      "cell_type": "code",
      "metadata": {
        "colab": {
          "base_uri": "https://localhost:8080/"
        },
        "id": "vVwf8DddaavT",
        "outputId": "c560b199-ae31-4474-edc5-26eb598233fb"
      },
      "source": [
        "data['MultipleLines'].replace('No phone service','No', inplace=True)\n",
        "data['MultipleLines'] = data['MultipleLines'].map(lambda s :1  if s =='Yes' else 0)\n",
        "data['MultipleLines'].value_counts()"
      ],
      "execution_count": null,
      "outputs": [
        {
          "output_type": "execute_result",
          "data": {
            "text/plain": [
              "0    4072\n",
              "1    2971\n",
              "Name: MultipleLines, dtype: int64"
            ]
          },
          "metadata": {
            "tags": []
          },
          "execution_count": 22
        }
      ]
    },
    {
      "cell_type": "markdown",
      "metadata": {
        "id": "NyfnFOmbaavT"
      },
      "source": [
        "**<font color='royalblue'> Preprocessing</font>**\n",
        "\n",
        "#### InternetService : Customer’s internet service provider (DSL, Fiber optic, No)\n",
        "    First of all, we want something like \"PhoneService\" column, \n",
        "    then we should create Has_InternetService column which can tell this customer has internet service or not.\n",
        "    Then, if they have internet service we need to tell model what kind of service"
      ]
    },
    {
      "cell_type": "code",
      "metadata": {
        "colab": {
          "base_uri": "https://localhost:8080/"
        },
        "id": "IRI9TUdraavT",
        "outputId": "e1399cd9-41b8-46b7-c9d7-b962cbdb7c8f"
      },
      "source": [
        "data['InternetService'].value_counts()"
      ],
      "execution_count": null,
      "outputs": [
        {
          "output_type": "execute_result",
          "data": {
            "text/plain": [
              "Fiber optic    3096\n",
              "DSL            2421\n",
              "No             1526\n",
              "Name: InternetService, dtype: int64"
            ]
          },
          "metadata": {
            "tags": []
          },
          "execution_count": 23
        }
      ]
    },
    {
      "cell_type": "code",
      "metadata": {
        "id": "euA2fIiGaavT"
      },
      "source": [
        "data['Has_InternetService'] = data['InternetService'].map(lambda s :0  if s =='No' else 1)\n",
        "data['Fiber_optic'] = data['InternetService'].map(lambda s :1  if s =='Fiber optic' else 0)\n",
        "data['DSL'] = data['InternetService'].map(lambda s :1  if s =='DSL' else 0)"
      ],
      "execution_count": null,
      "outputs": []
    },
    {
      "cell_type": "code",
      "metadata": {
        "colab": {
          "base_uri": "https://localhost:8080/"
        },
        "id": "szMzV5IBaavT",
        "outputId": "a0533afa-0446-4906-c35d-4a458571e24f"
      },
      "source": [
        "print(data['Has_InternetService'].value_counts())\n",
        "print(data['Fiber_optic'].value_counts())\n",
        "print(data['DSL'].value_counts())\n",
        "data.drop(['InternetService'], axis=1, inplace=True)"
      ],
      "execution_count": null,
      "outputs": [
        {
          "output_type": "stream",
          "text": [
            "1    5517\n",
            "0    1526\n",
            "Name: Has_InternetService, dtype: int64\n",
            "0    3947\n",
            "1    3096\n",
            "Name: Fiber_optic, dtype: int64\n",
            "0    4622\n",
            "1    2421\n",
            "Name: DSL, dtype: int64\n"
          ],
          "name": "stdout"
        }
      ]
    },
    {
      "cell_type": "markdown",
      "metadata": {
        "id": "uo9FbqD4aavU"
      },
      "source": [
        "**<font color='royalblue'> Preprocessing</font>**\n",
        "\n",
        "**OnlineSecurity OnlineBackup DeviceProtection <br>\n",
        " TechSupport StreamingTV StreamingMovies**\n",
        "\n",
        "     All of these columns have the same format, we do the samething what we do in \"MultipleLines\" column"
      ]
    },
    {
      "cell_type": "code",
      "metadata": {
        "id": "erIGTb5CaavU"
      },
      "source": [
        "data['OnlineSecurity'] = data['OnlineSecurity'].map(lambda s :1  if s =='Yes' else 0)\n",
        "data['OnlineBackup'] = data['OnlineBackup'].map(lambda s :1  if s =='Yes' else 0)\n",
        "data['DeviceProtection'] = data['DeviceProtection'].map(lambda s :1  if s =='Yes' else 0)\n",
        "data['TechSupport'] = data['TechSupport'].map(lambda s :1  if s =='Yes' else 0)\n",
        "data['StreamingTV'] = data['StreamingTV'].map(lambda s :1  if s =='Yes' else 0)\n",
        "data['StreamingMovies'] = data['StreamingMovies'].map(lambda s :1  if s =='Yes' else 0)"
      ],
      "execution_count": null,
      "outputs": []
    },
    {
      "cell_type": "markdown",
      "metadata": {
        "id": "iqHkwS5haavU"
      },
      "source": [
        "**<font color='royalblue'> Preprocessing</font>**\n",
        "\n",
        "#### PaymentMethod : The customer’s payment method (Electronic check, Mailed check, Bank transfer (automatic), Credit card (automatic))\n",
        "    This is categorical feature, I will use pandas function \"get_dummies\" for this feature"
      ]
    },
    {
      "cell_type": "code",
      "metadata": {
        "colab": {
          "base_uri": "https://localhost:8080/"
        },
        "id": "4AKEnkljaavU",
        "outputId": "71736dc1-f4e5-4f2d-ffa9-94baabe3952a"
      },
      "source": [
        "data['PaymentMethod'].value_counts()"
      ],
      "execution_count": null,
      "outputs": [
        {
          "output_type": "execute_result",
          "data": {
            "text/plain": [
              "Electronic check             2365\n",
              "Mailed check                 1612\n",
              "Bank transfer (automatic)    1544\n",
              "Credit card (automatic)      1522\n",
              "Name: PaymentMethod, dtype: int64"
            ]
          },
          "metadata": {
            "tags": []
          },
          "execution_count": 27
        }
      ]
    },
    {
      "cell_type": "code",
      "metadata": {
        "id": "U_2Q-cDBaavU"
      },
      "source": [
        "data = pd.get_dummies(data=data, columns=['PaymentMethod'])"
      ],
      "execution_count": null,
      "outputs": []
    },
    {
      "cell_type": "markdown",
      "metadata": {
        "id": "Jx80-_KBaavV"
      },
      "source": [
        "**<font color='forestgreen'> Note</font>**\n",
        "\n",
        "    What we got from get_dummies ??"
      ]
    },
    {
      "cell_type": "code",
      "metadata": {
        "colab": {
          "base_uri": "https://localhost:8080/",
          "height": 221
        },
        "id": "c83-unTCaavV",
        "outputId": "094c4a6b-1684-4a98-84d1-3123969558fe"
      },
      "source": [
        "data[['PaymentMethod_Electronic check',\n",
        "      'PaymentMethod_Mailed check',\n",
        "      'PaymentMethod_Bank transfer (automatic)',\n",
        "      'PaymentMethod_Credit card (automatic)']].head()"
      ],
      "execution_count": null,
      "outputs": [
        {
          "output_type": "execute_result",
          "data": {
            "text/html": [
              "<div>\n",
              "<style scoped>\n",
              "    .dataframe tbody tr th:only-of-type {\n",
              "        vertical-align: middle;\n",
              "    }\n",
              "\n",
              "    .dataframe tbody tr th {\n",
              "        vertical-align: top;\n",
              "    }\n",
              "\n",
              "    .dataframe thead th {\n",
              "        text-align: right;\n",
              "    }\n",
              "</style>\n",
              "<table border=\"1\" class=\"dataframe\">\n",
              "  <thead>\n",
              "    <tr style=\"text-align: right;\">\n",
              "      <th></th>\n",
              "      <th>PaymentMethod_Electronic check</th>\n",
              "      <th>PaymentMethod_Mailed check</th>\n",
              "      <th>PaymentMethod_Bank transfer (automatic)</th>\n",
              "      <th>PaymentMethod_Credit card (automatic)</th>\n",
              "    </tr>\n",
              "  </thead>\n",
              "  <tbody>\n",
              "    <tr>\n",
              "      <th>0</th>\n",
              "      <td>1</td>\n",
              "      <td>0</td>\n",
              "      <td>0</td>\n",
              "      <td>0</td>\n",
              "    </tr>\n",
              "    <tr>\n",
              "      <th>1</th>\n",
              "      <td>0</td>\n",
              "      <td>1</td>\n",
              "      <td>0</td>\n",
              "      <td>0</td>\n",
              "    </tr>\n",
              "    <tr>\n",
              "      <th>2</th>\n",
              "      <td>0</td>\n",
              "      <td>1</td>\n",
              "      <td>0</td>\n",
              "      <td>0</td>\n",
              "    </tr>\n",
              "    <tr>\n",
              "      <th>3</th>\n",
              "      <td>0</td>\n",
              "      <td>0</td>\n",
              "      <td>1</td>\n",
              "      <td>0</td>\n",
              "    </tr>\n",
              "    <tr>\n",
              "      <th>4</th>\n",
              "      <td>1</td>\n",
              "      <td>0</td>\n",
              "      <td>0</td>\n",
              "      <td>0</td>\n",
              "    </tr>\n",
              "  </tbody>\n",
              "</table>\n",
              "</div>"
            ],
            "text/plain": [
              "   PaymentMethod_Electronic check  ...  PaymentMethod_Credit card (automatic)\n",
              "0                               1  ...                                      0\n",
              "1                               0  ...                                      0\n",
              "2                               0  ...                                      0\n",
              "3                               0  ...                                      0\n",
              "4                               1  ...                                      0\n",
              "\n",
              "[5 rows x 4 columns]"
            ]
          },
          "metadata": {
            "tags": []
          },
          "execution_count": 29
        }
      ]
    },
    {
      "cell_type": "markdown",
      "metadata": {
        "id": "GDpFdGH-aavV"
      },
      "source": [
        "**<font color='royalblue'> Preprocessing</font>**\n",
        "\n",
        "#### Contract : The contract term of the customer (Month-to-month, One year, Two year)\n",
        "    this is also categorical value, let \"get_dummies\" it\n"
      ]
    },
    {
      "cell_type": "code",
      "metadata": {
        "colab": {
          "base_uri": "https://localhost:8080/"
        },
        "id": "9Dm9oiLaaavV",
        "outputId": "df5b6158-8dfe-4c53-bc1d-9b19e9c8c2b0"
      },
      "source": [
        "data['Contract'].value_counts()"
      ],
      "execution_count": null,
      "outputs": [
        {
          "output_type": "execute_result",
          "data": {
            "text/plain": [
              "Month-to-month    3875\n",
              "Two year          1695\n",
              "One year          1473\n",
              "Name: Contract, dtype: int64"
            ]
          },
          "metadata": {
            "tags": []
          },
          "execution_count": 30
        }
      ]
    },
    {
      "cell_type": "code",
      "metadata": {
        "id": "r4FDMr9FaavV"
      },
      "source": [
        "data = pd.get_dummies(data=data, columns=['Contract'])"
      ],
      "execution_count": null,
      "outputs": []
    },
    {
      "cell_type": "markdown",
      "metadata": {
        "id": "Z1Mdmi5NaavV"
      },
      "source": [
        "**<font color='royalblue'> Preprocessing</font>**\n",
        "\n",
        "#### MonthlyCharges : The amount charged to the customer monthly"
      ]
    },
    {
      "cell_type": "code",
      "metadata": {
        "colab": {
          "base_uri": "https://localhost:8080/"
        },
        "id": "AvOiVAeCaavV",
        "outputId": "176a9535-9d90-44f4-c5ed-2f9a23ae74bf"
      },
      "source": [
        "data['MonthlyCharges'].head()"
      ],
      "execution_count": null,
      "outputs": [
        {
          "output_type": "execute_result",
          "data": {
            "text/plain": [
              "0    29.85\n",
              "1    56.95\n",
              "2    53.85\n",
              "3    42.30\n",
              "4    70.70\n",
              "Name: MonthlyCharges, dtype: float64"
            ]
          },
          "metadata": {
            "tags": []
          },
          "execution_count": 32
        }
      ]
    },
    {
      "cell_type": "code",
      "metadata": {
        "colab": {
          "base_uri": "https://localhost:8080/",
          "height": 400
        },
        "id": "0W61rnSzaavW",
        "outputId": "9dc4d321-fb64-4b8c-cf26-6ce5950ea24f"
      },
      "source": [
        "sns.factorplot(x=\"Churn\", y = \"MonthlyCharges\",data = data, kind=\"box\", palette = \"Pastel1\")"
      ],
      "execution_count": null,
      "outputs": [
        {
          "output_type": "execute_result",
          "data": {
            "text/plain": [
              "<seaborn.axisgrid.FacetGrid at 0x7f224e84d650>"
            ]
          },
          "metadata": {
            "tags": []
          },
          "execution_count": 34
        },
        {
          "output_type": "display_data",
          "data": {
            "image/png": "[encoded data removed]",
            "text/plain": [
              "<Figure size 360x360 with 1 Axes>"
            ]
          },
          "metadata": {
            "tags": []
          }
        }
      ]
    },
    {
      "cell_type": "markdown",
      "metadata": {
        "id": "vJSk8wtdaavW"
      },
      "source": [
        "**<font color='tomato'> Finding</font>**\n",
        "\n",
        "    According to above plot, High MonthlyCharges may affect to churn probability.\n",
        "    And seem like customer will not churn if they have low amount in MonthlyCharges"
      ]
    },
    {
      "cell_type": "markdown",
      "metadata": {
        "id": "EkWIvdUZaavW"
      },
      "source": [
        "**<font color='royalblue'> Preprocessing</font>**\n",
        "\n",
        "#### TotalCharges : The total amount charged to the customer\n",
        "   It should be numerical feature, but it still in object type. we need to fix it."
      ]
    },
    {
      "cell_type": "code",
      "metadata": {
        "colab": {
          "base_uri": "https://localhost:8080/"
        },
        "id": "tSjxxeo8WS_9",
        "outputId": "9b01e027-0a2c-45d6-ac6b-579bb747b277"
      },
      "source": [
        "data['TotalCharges'].dtypes"
      ],
      "execution_count": null,
      "outputs": [
        {
          "output_type": "execute_result",
          "data": {
            "text/plain": [
              "dtype('O')"
            ]
          },
          "metadata": {
            "tags": []
          },
          "execution_count": 35
        }
      ]
    },
    {
      "cell_type": "code",
      "metadata": {
        "colab": {
          "base_uri": "https://localhost:8080/"
        },
        "id": "lGOAs8YtaavW",
        "outputId": "f3ad758d-6944-4f3f-fd16-b897bb145641"
      },
      "source": [
        "data['TotalCharges'].head()"
      ],
      "execution_count": null,
      "outputs": [
        {
          "output_type": "execute_result",
          "data": {
            "text/plain": [
              "0      29.85\n",
              "1     1889.5\n",
              "2     108.15\n",
              "3    1840.75\n",
              "4     151.65\n",
              "Name: TotalCharges, dtype: object"
            ]
          },
          "metadata": {
            "tags": []
          },
          "execution_count": 36
        }
      ]
    },
    {
      "cell_type": "code",
      "metadata": {
        "colab": {
          "base_uri": "https://localhost:8080/"
        },
        "id": "2-KPJdsaaavW",
        "outputId": "c50ce5e8-e17b-4b9b-f0df-90ab7bdb619d"
      },
      "source": [
        "## because 11 rows contain \" \" , it means 11 missing data in our dataset\n",
        "len(data[data['TotalCharges'] == \" \"])"
      ],
      "execution_count": null,
      "outputs": [
        {
          "output_type": "execute_result",
          "data": {
            "text/plain": [
              "11"
            ]
          },
          "metadata": {
            "tags": []
          },
          "execution_count": 37
        }
      ]
    },
    {
      "cell_type": "code",
      "metadata": {
        "id": "9pwer2NiaavW"
      },
      "source": [
        "## Drop missing data\n",
        "data = data[data['TotalCharges'] != \" \"]"
      ],
      "execution_count": null,
      "outputs": []
    },
    {
      "cell_type": "code",
      "metadata": {
        "id": "zRMLgqWOaavX"
      },
      "source": [
        "data['TotalCharges'] = pd.to_numeric(data['TotalCharges'])"
      ],
      "execution_count": null,
      "outputs": []
    },
    {
      "cell_type": "code",
      "metadata": {
        "colab": {
          "base_uri": "https://localhost:8080/",
          "height": 400
        },
        "id": "gN1yeT5VaavX",
        "outputId": "cfa361a5-6886-4144-a2f3-c633e8bc74b5"
      },
      "source": [
        "sns.factorplot(y=\"TotalCharges\",x=\"Churn\",data=data,kind=\"boxen\", palette = \"Pastel2\")"
      ],
      "execution_count": null,
      "outputs": [
        {
          "output_type": "execute_result",
          "data": {
            "text/plain": [
              "<seaborn.axisgrid.FacetGrid at 0x7f224e769e90>"
            ]
          },
          "metadata": {
            "tags": []
          },
          "execution_count": 40
        },
        {
          "output_type": "display_data",
          "data": {
            "image/png": "[encoded data removed]",
            "text/plain": [
              "<Figure size 360x360 with 1 Axes>"
            ]
          },
          "metadata": {
            "tags": []
          }
        }
      ]
    },
    {
      "cell_type": "markdown",
      "metadata": {
        "id": "A2OTD8-UaavX"
      },
      "source": [
        "**<font color='tomato'> Finding</font>**\n",
        "\n",
        "    From the plot above, most of churn customer has less than 2000 in total charge.\n",
        "    In range of 2500 to 8000, number of loyalty customer is around twice as amount as churn customer."
      ]
    },
    {
      "cell_type": "code",
      "metadata": {
        "colab": {
          "base_uri": "https://localhost:8080/"
        },
        "id": "hWnxrtNgaavX",
        "outputId": "d20e3e6c-bbf6-483f-f927-63faa2c6b7a4"
      },
      "source": [
        "data.info()"
      ],
      "execution_count": null,
      "outputs": [
        {
          "output_type": "stream",
          "text": [
            "<class 'pandas.core.frame.DataFrame'>\n",
            "Int64Index: 7032 entries, 0 to 7042\n",
            "Data columns (total 28 columns):\n",
            " #   Column                                   Non-Null Count  Dtype  \n",
            "---  ------                                   --------------  -----  \n",
            " 0   SeniorCitizen                            7032 non-null   int64  \n",
            " 1   Partner                                  7032 non-null   int64  \n",
            " 2   Dependents                               7032 non-null   int64  \n",
            " 3   tenure                                   7032 non-null   int64  \n",
            " 4   PhoneService                             7032 non-null   int64  \n",
            " 5   MultipleLines                            7032 non-null   int64  \n",
            " 6   OnlineSecurity                           7032 non-null   int64  \n",
            " 7   OnlineBackup                             7032 non-null   int64  \n",
            " 8   DeviceProtection                         7032 non-null   int64  \n",
            " 9   TechSupport                              7032 non-null   int64  \n",
            " 10  StreamingTV                              7032 non-null   int64  \n",
            " 11  StreamingMovies                          7032 non-null   int64  \n",
            " 12  PaperlessBilling                         7032 non-null   int64  \n",
            " 13  MonthlyCharges                           7032 non-null   float64\n",
            " 14  TotalCharges                             7032 non-null   float64\n",
            " 15  Churn                                    7032 non-null   int64  \n",
            " 16  gender_Female                            7032 non-null   uint8  \n",
            " 17  gender_Male                              7032 non-null   uint8  \n",
            " 18  Has_InternetService                      7032 non-null   int64  \n",
            " 19  Fiber_optic                              7032 non-null   int64  \n",
            " 20  DSL                                      7032 non-null   int64  \n",
            " 21  PaymentMethod_Bank transfer (automatic)  7032 non-null   uint8  \n",
            " 22  PaymentMethod_Credit card (automatic)    7032 non-null   uint8  \n",
            " 23  PaymentMethod_Electronic check           7032 non-null   uint8  \n",
            " 24  PaymentMethod_Mailed check               7032 non-null   uint8  \n",
            " 25  Contract_Month-to-month                  7032 non-null   uint8  \n",
            " 26  Contract_One year                        7032 non-null   uint8  \n",
            " 27  Contract_Two year                        7032 non-null   uint8  \n",
            "dtypes: float64(2), int64(17), uint8(9)\n",
            "memory usage: 1.4 MB\n"
          ],
          "name": "stdout"
        }
      ]
    },
    {
      "cell_type": "markdown",
      "metadata": {
        "id": "HHvTnWiRaavX"
      },
      "source": [
        "##  CreatingModel & Evaluate\n",
        "\n",
        "      In this step, we will use model with default parameter compare with tuning parameter by using grid search\n",
        "      Gridsearch is just like try to put all possible combining between parameter in ranges that we input."
      ]
    },
    {
      "cell_type": "code",
      "metadata": {
        "id": "YY9RJ9MIePpU"
      },
      "source": [
        "from sklearn.model_selection import cross_val_score, GridSearchCV, train_test_split\n",
        "\n",
        "data[\"Churn\"] = data[\"Churn\"].astype(int)\n",
        "y = data[\"Churn\"]\n",
        "X = data.drop(\"Churn\",axis = 1)\n",
        "\n",
        "X_train, X_test, y_train, y_test = train_test_split(X, y, test_size=0.2, random_state=42)"
      ],
      "execution_count": null,
      "outputs": []
    },
    {
      "cell_type": "code",
      "metadata": {
        "colab": {
          "base_uri": "https://localhost:8080/"
        },
        "id": "dJ7c47D8aavY",
        "outputId": "248055e2-7ca8-48d0-db56-9dcf953e5ca7"
      },
      "source": [
        "print(\"X_train shape: \",X_train.shape)\n",
        "print(\"y_train shape: \",y_train.shape)\n",
        "print(\"X_test shape: \",X_test.shape)\n",
        "print(\"y_test shape: \",y_test.shape)"
      ],
      "execution_count": null,
      "outputs": [
        {
          "output_type": "stream",
          "text": [
            "X_train shape:  (5625, 27)\n",
            "y_train shape:  (5625,)\n",
            "X_test shape:  (1407, 27)\n",
            "y_test shape:  (1407,)\n"
          ],
          "name": "stdout"
        }
      ]
    },
    {
      "cell_type": "markdown",
      "metadata": {
        "id": "xndjIrahaavY"
      },
      "source": [
        "## Random Forest"
      ]
    },
    {
      "cell_type": "code",
      "metadata": {
        "colab": {
          "base_uri": "https://localhost:8080/"
        },
        "id": "_8ZnZ5maaavY",
        "outputId": "25a1911b-49a7-4dee-bf19-4f19096d4b2e"
      },
      "source": [
        "from sklearn.ensemble import RandomForestClassifier\n",
        "\n",
        "Rfclf = RandomForestClassifier(random_state=15)\n",
        "Rfclf.fit(X_train, y_train)"
      ],
      "execution_count": null,
      "outputs": [
        {
          "output_type": "execute_result",
          "data": {
            "text/plain": [
              "RandomForestClassifier(bootstrap=True, ccp_alpha=0.0, class_weight=None,\n",
              "                       criterion='gini', max_depth=None, max_features='auto',\n",
              "                       max_leaf_nodes=None, max_samples=None,\n",
              "                       min_impurity_decrease=0.0, min_impurity_split=None,\n",
              "                       min_samples_leaf=1, min_samples_split=2,\n",
              "                       min_weight_fraction_leaf=0.0, n_estimators=100,\n",
              "                       n_jobs=None, oob_score=False, random_state=15, verbose=0,\n",
              "                       warm_start=False)"
            ]
          },
          "metadata": {
            "tags": []
          },
          "execution_count": 45
        }
      ]
    },
    {
      "cell_type": "code",
      "metadata": {
        "colab": {
          "base_uri": "https://localhost:8080/"
        },
        "id": "ALBQ2FH0aavY",
        "outputId": "7d69752e-f66e-4e5c-d3eb-7a954101e679"
      },
      "source": [
        "# 10 Folds Cross Validation \n",
        "clf_score = cross_val_score(Rfclf, X_train, y_train, cv=10)\n",
        "print(clf_score)\n",
        "clf_score.mean()"
      ],
      "execution_count": null,
      "outputs": [
        {
          "output_type": "stream",
          "text": [
            "[0.76554174 0.78507993 0.79396092 0.79396092 0.75843694 0.82384342\n",
            " 0.79715302 0.77935943 0.80427046 0.8202847 ]\n"
          ],
          "name": "stdout"
        },
        {
          "output_type": "execute_result",
          "data": {
            "text/plain": [
              "0.7921891493840193"
            ]
          },
          "metadata": {
            "tags": []
          },
          "execution_count": 46
        }
      ]
    },
    {
      "cell_type": "markdown",
      "metadata": {
        "id": "_DD50niUaavY"
      },
      "source": [
        "**<font color='tomato'> Finding</font>**\n",
        "\n",
        "    Our default random forest get around 78% accuracy from cross-validation"
      ]
    },
    {
      "cell_type": "markdown",
      "metadata": {
        "id": "ZROAPvqz6icr"
      },
      "source": [
        "<img src=\"https://scikit-learn.org/stable/_images/grid_search_cross_validation.png\" width=\"600\"/>\n"
      ]
    },
    {
      "cell_type": "code",
      "metadata": {
        "colab": {
          "background_save": true
        },
        "id": "2b9mwwgqaavY",
        "outputId": "413eeb00-1590-497f-fcb7-49267cb74b9b"
      },
      "source": [
        "%%time\n",
        "param_grid  = { \n",
        "                'n_estimators' : [500,1200],\n",
        "                'min_samples_leaf': [1,2,5],\n",
        "                'max_depth': range(1,5,2),\n",
        "                'max_features' : ('log2', 'sqrt'),\n",
        "                'class_weight':[{1: w} for w in [1,1.5]]\n",
        "              }\n",
        "\n",
        "GridRF = GridSearchCV(RandomForestClassifier(random_state=42), param_grid)\n",
        "\n",
        "GridRF.fit(X_train, y_train)\n",
        "\n",
        "print(\"\\nBest parameters \\n\" + str(GridRF.best_params_))"
      ],
      "execution_count": null,
      "outputs": [
        {
          "output_type": "stream",
          "text": [
            "\n",
            "Best parameters \n",
            "{'class_weight': {1: 1.5}, 'max_depth': 3, 'max_features': 'log2', 'min_samples_leaf': 1, 'n_estimators': 1200}\n",
            "CPU times: user 7min 8s, sys: 1.81 s, total: 7min 9s\n",
            "Wall time: 7min 9s\n"
          ],
          "name": "stdout"
        }
      ]
    },
    {
      "cell_type": "code",
      "metadata": {
        "colab": {
          "background_save": true
        },
        "id": "a1o4E0FUaavZ",
        "outputId": "8cb727d5-3cb6-491b-aa20-92d321153753"
      },
      "source": [
        "rf = RandomForestClassifier(random_state=42, **GridRF.best_params_)\n",
        "rf.fit(X_train, y_train)"
      ],
      "execution_count": null,
      "outputs": [
        {
          "output_type": "execute_result",
          "data": {
            "text/plain": [
              "RandomForestClassifier(bootstrap=True, ccp_alpha=0.0, class_weight={1: 1.5},\n",
              "                       criterion='gini', max_depth=3, max_features='log2',\n",
              "                       max_leaf_nodes=None, max_samples=None,\n",
              "                       min_impurity_decrease=0.0, min_impurity_split=None,\n",
              "                       min_samples_leaf=1, min_samples_split=2,\n",
              "                       min_weight_fraction_leaf=0.0, n_estimators=1200,\n",
              "                       n_jobs=None, oob_score=False, random_state=42, verbose=0,\n",
              "                       warm_start=False)"
            ]
          },
          "metadata": {
            "tags": []
          },
          "execution_count": 0
        }
      ]
    },
    {
      "cell_type": "markdown",
      "metadata": {
        "id": "R0swP6NAaavZ"
      },
      "source": [
        "## K-Fold CV with accuracy metric\n"
      ]
    },
    {
      "cell_type": "code",
      "metadata": {
        "colab": {
          "background_save": true
        },
        "id": "_BX-jRsHaavZ",
        "outputId": "ebfa7081-c22e-43ed-8227-52abba45f738"
      },
      "source": [
        "# 10 Folds Cross Validation \n",
        "clf_score = cross_val_score(rf, X_train, y_train, cv=10)\n",
        "print(clf_score)\n",
        "clf_score.mean()"
      ],
      "execution_count": null,
      "outputs": [
        {
          "output_type": "stream",
          "text": [
            "[0.79218472 0.8294849  0.80817052 0.79928952 0.75666075 0.82562278\n",
            " 0.77224199 0.80071174 0.80427046 0.82740214]\n"
          ],
          "name": "stdout"
        },
        {
          "output_type": "execute_result",
          "data": {
            "text/plain": [
              "0.8016039518846039"
            ]
          },
          "metadata": {
            "tags": []
          },
          "execution_count": 0
        }
      ]
    },
    {
      "cell_type": "markdown",
      "metadata": {
        "id": "Wyabca8yaavZ"
      },
      "source": [
        "**<font color='tomato'> Finding</font>**\n",
        "\n",
        "    Our grid-search get around 80% accuracy from cross-validation, a little bit improve from default parameter"
      ]
    },
    {
      "cell_type": "markdown",
      "metadata": {
        "id": "LiQEh0Uxaava"
      },
      "source": [
        "## Confusion Matrix"
      ]
    },
    {
      "cell_type": "code",
      "metadata": {
        "colab": {
          "background_save": true
        },
        "id": "_DI3YuZkaava",
        "outputId": "cc5034e5-5ef4-4eba-f65f-5610acbb0591"
      },
      "source": [
        "# Confusion Matrix\n",
        "from sklearn.metrics import confusion_matrix\n",
        "\n",
        "y_pred = rf.predict(X_test)\n",
        "\n",
        "sns.heatmap(confusion_matrix(y_test, y_pred), annot=True, fmt=\"d\")"
      ],
      "execution_count": null,
      "outputs": [
        {
          "output_type": "execute_result",
          "data": {
            "text/plain": [
              "<matplotlib.axes._subplots.AxesSubplot at 0x7f224e844e50>"
            ]
          },
          "metadata": {
            "tags": []
          },
          "execution_count": 0
        },
        {
          "output_type": "display_data",
          "data": {
            "image/png": "[encoded data removed]",
            "text/plain": [
              "<Figure size 576x576 with 2 Axes>"
            ]
          },
          "metadata": {
            "tags": []
          }
        }
      ]
    },
    {
      "cell_type": "markdown",
      "metadata": {
        "id": "Z_qR-o6lYY40"
      },
      "source": [
        "## Classification Report\n"
      ]
    },
    {
      "cell_type": "code",
      "metadata": {
        "colab": {
          "background_save": true
        },
        "id": "MDwvGZc6aava",
        "outputId": "cb266d15-bd82-4574-9e18-dd7fbfa726a8"
      },
      "source": [
        "from sklearn.metrics import classification_report\n",
        "\n",
        "print(classification_report(y_test, y_pred))"
      ],
      "execution_count": null,
      "outputs": [
        {
          "output_type": "stream",
          "text": [
            "              precision    recall  f1-score   support\n",
            "\n",
            "           0       0.84      0.88      0.86      1033\n",
            "           1       0.62      0.53      0.57       374\n",
            "\n",
            "    accuracy                           0.79      1407\n",
            "   macro avg       0.73      0.71      0.72      1407\n",
            "weighted avg       0.78      0.79      0.78      1407\n",
            "\n"
          ],
          "name": "stdout"
        }
      ]
    },
    {
      "cell_type": "markdown",
      "metadata": {
        "id": "p1ovky5BaavZ"
      },
      "source": [
        "## Feature importances\n",
        "    finding all features that has an impact to our model"
      ]
    },
    {
      "cell_type": "code",
      "metadata": {
        "colab": {
          "background_save": true
        },
        "id": "aZPQEbIOaavZ",
        "outputId": "ca3263dd-baac-41c2-b568-fc18fffd9f73"
      },
      "source": [
        "Rfclf_fea = pd.DataFrame(rf.feature_importances_)\n",
        "Rfclf_fea[\"Feature\"] = list(X_train) \n",
        "Rfclf_fea.sort_values(by=0, ascending=False).head()"
      ],
      "execution_count": null,
      "outputs": [
        {
          "output_type": "execute_result",
          "data": {
            "text/html": [
              "<div>\n",
              "<style scoped>\n",
              "    .dataframe tbody tr th:only-of-type {\n",
              "        vertical-align: middle;\n",
              "    }\n",
              "\n",
              "    .dataframe tbody tr th {\n",
              "        vertical-align: top;\n",
              "    }\n",
              "\n",
              "    .dataframe thead th {\n",
              "        text-align: right;\n",
              "    }\n",
              "</style>\n",
              "<table border=\"1\" class=\"dataframe\">\n",
              "  <thead>\n",
              "    <tr style=\"text-align: right;\">\n",
              "      <th></th>\n",
              "      <th>0</th>\n",
              "      <th>Feature</th>\n",
              "    </tr>\n",
              "  </thead>\n",
              "  <tbody>\n",
              "    <tr>\n",
              "      <th>24</th>\n",
              "      <td>0.215185</td>\n",
              "      <td>Contract_Month-to-month</td>\n",
              "    </tr>\n",
              "    <tr>\n",
              "      <th>3</th>\n",
              "      <td>0.142162</td>\n",
              "      <td>tenure</td>\n",
              "    </tr>\n",
              "    <tr>\n",
              "      <th>18</th>\n",
              "      <td>0.113512</td>\n",
              "      <td>Fiber_optic</td>\n",
              "    </tr>\n",
              "    <tr>\n",
              "      <th>26</th>\n",
              "      <td>0.112073</td>\n",
              "      <td>Contract_Two year</td>\n",
              "    </tr>\n",
              "    <tr>\n",
              "      <th>22</th>\n",
              "      <td>0.079737</td>\n",
              "      <td>PaymentMethod_Electronic check</td>\n",
              "    </tr>\n",
              "  </tbody>\n",
              "</table>\n",
              "</div>"
            ],
            "text/plain": [
              "           0                         Feature\n",
              "24  0.215185         Contract_Month-to-month\n",
              "3   0.142162                          tenure\n",
              "18  0.113512                     Fiber_optic\n",
              "26  0.112073               Contract_Two year\n",
              "22  0.079737  PaymentMethod_Electronic check"
            ]
          },
          "metadata": {
            "tags": []
          },
          "execution_count": 0
        }
      ]
    },
    {
      "cell_type": "code",
      "metadata": {
        "colab": {
          "background_save": true
        },
        "id": "I3XuK1BMaava",
        "outputId": "02d7abdf-7064-45ea-ed14-b9963e00a83a"
      },
      "source": [
        "g = sns.barplot(0,\"Feature\", data = Rfclf_fea.sort_values(by=0, ascending=False)[0:10], palette=\"Pastel1\", orient = \"h\")\n",
        "g.set_xlabel(\"Weight\")\n",
        "g = g.set_title(\"Random Forest\")"
      ],
      "execution_count": null,
      "outputs": [
        {
          "output_type": "display_data",
          "data": {
            "image/png": "[encoded data removed]",
            "text/plain": [
              "<Figure size 576x576 with 1 Axes>"
            ]
          },
          "metadata": {
            "tags": []
          }
        }
      ]
    }
  ]
}